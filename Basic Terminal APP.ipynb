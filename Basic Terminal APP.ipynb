{
 "cells": [
  {
   "cell_type": "markdown",
   "id": "8d900381",
   "metadata": {},
   "source": [
    "# Basic Terminal App"
   ]
  },
  {
   "cell_type": "code",
   "execution_count": 4,
   "id": "9ca495e6",
   "metadata": {},
   "outputs": [
    {
     "name": "stdout",
     "output_type": "stream",
     "text": [
      "Basic Terminal APP\n",
      "Enter your Operation >>> \n",
      "exit\n"
     ]
    },
    {
     "ename": "SystemExit",
     "evalue": "Bye",
     "output_type": "error",
     "traceback": [
      "An exception has occurred, use %tb to see the full traceback.\n",
      "\u001b[1;31mSystemExit\u001b[0m\u001b[1;31m:\u001b[0m Bye\n"
     ]
    }
   ],
   "source": [
    "import sys\n",
    "import os\n",
    "from pathlib import Path\n",
    "\n",
    "location = \"C:/Users/zaina/Desktop\"\n",
    "print(\"Basic Terminal APP\")\n",
    "while True:\n",
    "    code = input(\"Enter your Operation >>> \\n\")\n",
    "    if code == 'echo me':\n",
    "        echo = input(\"Enter the text\")\n",
    "        print(echo)\n",
    "    if code == 'ls':\n",
    "        t = input('If you want to use default Path then press 0 else press any key\\n')\n",
    "        if t == '0':\n",
    "            location = \"C:/Users/zaina/Desktop\"\n",
    "        else:\n",
    "            location = input(\"Enter the path \\n\")\n",
    "        dir_list = os.listdir(location)\n",
    "        print(\"Files and Directiries in \",location,\" : \")\n",
    "        print(dir_list)\n",
    "    if code == 'mkdir':\n",
    "        directory = input(\"Enter the Directory name\\n\")\n",
    "        t= input('If you want to use default Path then press 0 else press any key\\n')\n",
    "        if t == '0':\n",
    "            location = \"C:/Users/zaina/Desktop\"\n",
    "        else:\n",
    "            location = input(\"Enter the path \\n\")\n",
    "        path_dir = os.path.join(location, directory)\n",
    "        os.mkdir(path_dir)\n",
    "        print(\"Directory '%s' created\" % directory)\n",
    "    if code == 'rmdir':\n",
    "        directory = input('Enter the directory name to be removed\\n')\n",
    "        t= input('If you want to use default Path then press 0 else press any key\\n')\n",
    "        if t == '0':\n",
    "            location = \"C:/Users/zaina/Desktop\"\n",
    "        else:\n",
    "            location = input(\"Enter the path \\n\")\n",
    "        path_dir = os.path.join(location, directory)\n",
    "        os.rmdir(path_dir)\n",
    "        print(\"% s has been removed successfully\" % directory)\n",
    "    if code == 'touch':\n",
    "        t = input('If you want to use default Path then press 0 else press any key\\n')\n",
    "        if t != '0':\n",
    "            location = input(\"Enter the path \\n\")\n",
    "        file = input(\"Enter the name and type of file\\n\")\n",
    "        Path(location,file).touch()\n",
    "        print(\"File '%s' created\" % file)\n",
    "    if code =='cat':\n",
    "\n",
    "    if code == 'exit':\n",
    "        sys.exit(\"Bye\")"
   ]
  },
  {
   "cell_type": "code",
   "execution_count": null,
   "id": "edf06b94",
   "metadata": {},
   "outputs": [],
   "source": []
  },
  {
   "cell_type": "code",
   "execution_count": null,
   "id": "bdc62a2f",
   "metadata": {},
   "outputs": [],
   "source": []
  }
 ],
 "metadata": {
  "kernelspec": {
   "display_name": "Python 3 (ipykernel)",
   "language": "python",
   "name": "python3"
  },
  "language_info": {
   "codemirror_mode": {
    "name": "ipython",
    "version": 3
   },
   "file_extension": ".py",
   "mimetype": "text/x-python",
   "name": "python",
   "nbconvert_exporter": "python",
   "pygments_lexer": "ipython3",
   "version": "3.9.7"
  }
 },
 "nbformat": 4,
 "nbformat_minor": 5
}
