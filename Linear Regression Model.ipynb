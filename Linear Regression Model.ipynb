{
 "cells": [
  {
   "cell_type": "markdown",
   "id": "c1f6b1c3",
   "metadata": {},
   "source": [
    "# Linear Regression Model"
   ]
  },
  {
   "cell_type": "code",
   "execution_count": 1,
   "id": "6223244a",
   "metadata": {},
   "outputs": [],
   "source": [
    "import math\n",
    "import numpy as np"
   ]
  },
  {
   "cell_type": "code",
   "execution_count": 10,
   "id": "2bfaa662",
   "metadata": {},
   "outputs": [],
   "source": [
    "dict = {'x':[2,2.4,1.5,3.5,3.5,3.5,3.5,3.7,3.7],\n",
    "        'y':[196,221,136,255,244,230,232,255,267]}"
   ]
  },
  {
   "cell_type": "code",
   "execution_count": 26,
   "id": "11bc4022",
   "metadata": {},
   "outputs": [
    {
     "data": {
      "text/plain": [
       "3.03"
      ]
     },
     "execution_count": 26,
     "metadata": {},
     "output_type": "execute_result"
    }
   ],
   "source": [
    "avg_x =sum(dict['x'])/len(dict['x'])\n",
    "round(avg_x,2)"
   ]
  },
  {
   "cell_type": "code",
   "execution_count": 27,
   "id": "04e575a2",
   "metadata": {},
   "outputs": [
    {
     "data": {
      "text/plain": [
       "226.22"
      ]
     },
     "execution_count": 27,
     "metadata": {},
     "output_type": "execute_result"
    }
   ],
   "source": [
    "avg_y =sum(dict['y'])/len(dict['y'])\n",
    "round(avg_y,2)"
   ]
  },
  {
   "cell_type": "markdown",
   "id": "8df4b818",
   "metadata": {},
   "source": [
    "# Equation\n",
    "y_ = theta + theta1*x_"
   ]
  },
  {
   "cell_type": "code",
   "execution_count": 32,
   "id": "1e105da0",
   "metadata": {},
   "outputs": [
    {
     "data": {
      "text/plain": [
       "43.98446833930704"
      ]
     },
     "execution_count": 32,
     "metadata": {},
     "output_type": "execute_result"
    }
   ],
   "source": [
    "theta1 = 0\n",
    "t = 0\n",
    "a = 0\n",
    "for i in range (len(dict['x'])):\n",
    "    t = t + (dict['x'][i] - avg_x)*(dict['y'][i] - avg_y)\n",
    "    a = a + (dict['x'][i] - avg_x)**2\n",
    "theta1 = t/a\n",
    "theta1"
   ]
  },
  {
   "cell_type": "code",
   "execution_count": 34,
   "id": "08ac01c2",
   "metadata": {},
   "outputs": [
    {
     "data": {
      "text/plain": [
       "92.80266825965754"
      ]
     },
     "execution_count": 34,
     "metadata": {},
     "output_type": "execute_result"
    }
   ],
   "source": [
    "theta = avg_y - theta1*avg_x\n",
    "theta"
   ]
  },
  {
   "cell_type": "code",
   "execution_count": 42,
   "id": "02e34cb7",
   "metadata": {},
   "outputs": [
    {
     "name": "stdout",
     "output_type": "stream",
     "text": [
      "Enter your value3.7\n",
      "255.55\n"
     ]
    }
   ],
   "source": [
    "x_ = float(input('Enter your value'))\n",
    "y_ = theta + theta1*x_\n",
    "print(round(y_,2))"
   ]
  },
  {
   "cell_type": "code",
   "execution_count": null,
   "id": "1a1944a8",
   "metadata": {},
   "outputs": [],
   "source": []
  }
 ],
 "metadata": {
  "kernelspec": {
   "display_name": "Python 3 (ipykernel)",
   "language": "python",
   "name": "python3"
  },
  "language_info": {
   "codemirror_mode": {
    "name": "ipython",
    "version": 3
   },
   "file_extension": ".py",
   "mimetype": "text/x-python",
   "name": "python",
   "nbconvert_exporter": "python",
   "pygments_lexer": "ipython3",
   "version": "3.9.7"
  }
 },
 "nbformat": 4,
 "nbformat_minor": 5
}
